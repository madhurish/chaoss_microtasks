{
 "cells": [
  {
   "cell_type": "code",
   "execution_count": 48,
   "metadata": {},
   "outputs": [
    {
     "name": "stdout",
     "output_type": "stream",
     "text": [
      "Commit count : 1350\n",
      "Authors : Counter({'Santiago Dueñas <sduenas@bitergia.com>': 819, 'Valerio Cosentino <valcos@bitergia.com>': 367, 'Alvaro del Castillo <acs@bitergia.com>': 59, 'Alberto Martín <alberto.martin@bitergia.com>': 51, 'Jesus M. Gonzalez-Barahona <jgb@gsyc.es>': 20, 'valerio cosentino <valcos@bitergia.com>': 6, 'quan <zhquan7@gmail.com>': 5, 'Miguel Ángel Fernández <mafesan@bitergia.com>': 3, 'camillem <camillem@users.noreply.github.com>': 2, 'valerio <valerio.cosentino@gmail.com>': 2, 'David Pose Fernández <dpose@bitergia.com>': 2, 'Fil Maj <maj.fil@gmail.com>': 2, 'J. Manrique Lopez de la Fuente <jsmanrique@bitergia.com>': 1, 'Luis Cañas Díaz <lcanas@bitergia.com>': 1, 'Stephan Barth <stephan.barth@gmail.com>': 1, 'David Esler <drumandstrum@gmail.com>': 1, 'david <david@starlab.io>': 1, 'Israel Herraiz <israel.herraiz@bbvadata.com>': 1, 'anveshc05 <anveshc10047@gmail.com>': 1, 'Prabhat <prabhatsharma7298@gmail.com>': 1, 'MalloZup <dmaiocchi@suse.com>': 1, 'Gregorio Robles <grex@gsyc.urjc.es>': 1, 'Maurizio Pillitu <maoo@apache.org>': 1, 'Lukasz Gryglicki <lukaszgryglicki@o2.pl>': 1})\n"
     ]
    }
   ],
   "source": [
    "from perceval.backends.core.git import Git\n",
    "from collections import Counter\n",
    "# url for the git repo to analyze\n",
    "repo_url = 'http://github.com/grimoirelab/perceval.git'\n",
    "# directory for letting Perceval clone the git repo\n",
    "repo_dir = '/tmp/perceval.git'\n",
    "\n",
    "# create a Git object, pointing to repo_url, using repo_dir for cloning\n",
    "repo = Git(uri=repo_url, gitpath=repo_dir)\n",
    "\n",
    "commit_count = 0\n",
    "pull_request_count = 0\n",
    "issue_count = 0\n",
    "author_count = Counter()\n",
    "for item in repo.fetch():\n",
    "    commit_count += 1\n",
    "    author = item['data']['Author']\n",
    "    author_count[author] += 1\n",
    "        \n",
    "print(\"Commit count :\",commit_count)\n",
    "print(\"Commits per authors :\",author_count)"
   ]
  }
 ],
 "metadata": {
  "kernelspec": {
   "display_name": "Python 3",
   "language": "python",
   "name": "python3"
  },
  "language_info": {
   "codemirror_mode": {
    "name": "ipython",
    "version": 3
   },
   "file_extension": ".py",
   "mimetype": "text/x-python",
   "name": "python",
   "nbconvert_exporter": "python",
   "pygments_lexer": "ipython3",
   "version": "3.6.7"
  }
 },
 "nbformat": 4,
 "nbformat_minor": 2
}
